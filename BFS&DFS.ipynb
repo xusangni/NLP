{
 "cells": [
  {
   "cell_type": "code",
   "execution_count": 1,
   "metadata": {},
   "outputs": [],
   "source": [
    "import matplotlib.pyplot as plt\n",
    "import networkx as nx\n",
    "%matplotlib inline"
   ]
  },
  {
   "cell_type": "code",
   "execution_count": 2,
   "metadata": {},
   "outputs": [],
   "source": [
    "graph = { 'A': ['B', 'C'],\n",
    "        'B': ['A', 'C', 'D', 'E'],\n",
    "        'C': ['A', 'B', 'E'],\n",
    "        'D': ['B', 'E', 'F'],\n",
    "        'E': ['B', 'C', 'D'],\n",
    "        'F': ['D']}"
   ]
  },
  {
   "cell_type": "code",
   "execution_count": 3,
   "metadata": {},
   "outputs": [
    {
     "data": {
      "image/png": "[encoded data removed]",
      "text/plain": [
       "<matplotlib.figure.Figure at 0x1499f0a5978>"
      ]
     },
     "metadata": {},
     "output_type": "display_data"
    }
   ],
   "source": [
    "g = nx.Graph(graph)\n",
    "g.add_nodes_from(list(graph.keys()))\n",
    "nx.draw(g, with_labels=True)"
   ]
  },
  {
   "cell_type": "code",
   "execution_count": 4,
   "metadata": {},
   "outputs": [],
   "source": [
    "#DFS代码实现\n",
    "def dfs_search_route(start, graph):\n",
    "    route = [start]\n",
    "    seen = set()\n",
    "    \n",
    "    while route:\n",
    "        visited = route.pop()\n",
    "        \n",
    "        if visited not in seen:\n",
    "            for i in graph[visited]:\n",
    "                if i not in seen:\n",
    "                    if i not in route:\n",
    "                        route.append(i) \n",
    "                    \n",
    "            seen.add(visited)\n",
    "        print(visited)"
   ]
  },
  {
   "cell_type": "code",
   "execution_count": 5,
   "metadata": {},
   "outputs": [
    {
     "name": "stdout",
     "output_type": "stream",
     "text": [
      "A\n",
      "C\n",
      "E\n",
      "D\n",
      "F\n",
      "B\n"
     ]
    }
   ],
   "source": [
    "dfs_search_route(\"A\", graph)"
   ]
  },
  {
   "cell_type": "code",
   "execution_count": 6,
   "metadata": {},
   "outputs": [],
   "source": [
    "#bfs代码实现\n",
    "def bfs_search_route(start, graph):\n",
    "    route = [start]\n",
    "    seen = set()\n",
    "    \n",
    "    while route:\n",
    "        visited = route.pop(0)\n",
    "        \n",
    "        if visited not in seen:\n",
    "            for i in graph[visited]:\n",
    "                if i not in seen:\n",
    "                    if i not in route:\n",
    "                        route.append(i) \n",
    "                    \n",
    "            seen.add(visited)\n",
    "        print(visited)"
   ]
  },
  {
   "cell_type": "code",
   "execution_count": 7,
   "metadata": {},
   "outputs": [
    {
     "name": "stdout",
     "output_type": "stream",
     "text": [
      "A\n",
      "B\n",
      "C\n",
      "D\n",
      "E\n",
      "F\n"
     ]
    }
   ],
   "source": [
    "bfs_search_route(\"A\", graph)"
   ]
  }
 ],
 "metadata": {
  "kernelspec": {
   "display_name": "Python 3",
   "language": "python",
   "name": "python3"
  },
  "language_info": {
   "codemirror_mode": {
    "name": "ipython",
    "version": 3
   },
   "file_extension": ".py",
   "mimetype": "text/x-python",
   "name": "python",
   "nbconvert_exporter": "python",
   "pygments_lexer": "ipython3",
   "version": "3.6.3"
  }
 },
 "nbformat": 4,
 "nbformat_minor": 2
}
